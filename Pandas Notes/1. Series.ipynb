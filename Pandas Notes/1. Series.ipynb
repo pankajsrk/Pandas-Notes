{
 "cells": [
  {
   "cell_type": "code",
   "execution_count": 1,
   "id": "00eb36ec",
   "metadata": {},
   "outputs": [],
   "source": [
    "import pandas as pd"
   ]
  },
  {
   "cell_type": "markdown",
   "id": "2e060d6c",
   "metadata": {},
   "source": [
    "create a one dimensional serires"
   ]
  },
  {
   "cell_type": "code",
   "execution_count": 2,
   "id": "b2c0678a",
   "metadata": {},
   "outputs": [],
   "source": [
    "lists = [1,2,3,4,5]"
   ]
  },
  {
   "cell_type": "code",
   "execution_count": 5,
   "id": "456b32ab",
   "metadata": {},
   "outputs": [],
   "source": [
    "sr = pd.Series(lists)"
   ]
  },
  {
   "cell_type": "code",
   "execution_count": 6,
   "id": "56e4c24e",
   "metadata": {},
   "outputs": [
    {
     "data": {
      "text/plain": [
       "0    1\n",
       "1    2\n",
       "2    3\n",
       "3    4\n",
       "4    5\n",
       "dtype: int64"
      ]
     },
     "execution_count": 6,
     "metadata": {},
     "output_type": "execute_result"
    }
   ],
   "source": [
    "sr"
   ]
  },
  {
   "cell_type": "code",
   "execution_count": 7,
   "id": "8bedd06d",
   "metadata": {},
   "outputs": [],
   "source": [
    "# managing indexing"
   ]
  },
  {
   "cell_type": "code",
   "execution_count": 16,
   "id": "ccfa9fbb",
   "metadata": {},
   "outputs": [
    {
     "data": {
      "text/plain": [
       "a    1.0\n",
       "b    2.0\n",
       "c    3.0\n",
       "d    4.0\n",
       "e    5.0\n",
       "Name: Series DataFrame, dtype: float64"
      ]
     },
     "execution_count": 16,
     "metadata": {},
     "output_type": "execute_result"
    }
   ],
   "source": [
    "sr = pd.Series(lists, index=['a','b','c','d','e'], dtype='float', name='Series DataFrame')\n",
    "sr"
   ]
  },
  {
   "cell_type": "code",
   "execution_count": 31,
   "id": "0ef95b5f",
   "metadata": {},
   "outputs": [],
   "source": [
    "data = {\n",
    "    'name':['pune', 'mumbai', 'akola', 'satara'],\n",
    "    'kilometer':[500,600,550,700]\n",
    "}"
   ]
  },
  {
   "cell_type": "code",
   "execution_count": 32,
   "id": "ccd42480",
   "metadata": {},
   "outputs": [
    {
     "data": {
      "text/plain": [
       "name         [pune, mumbai, akola, satara]\n",
       "kilometer             [500, 600, 550, 700]\n",
       "dtype: object"
      ]
     },
     "execution_count": 32,
     "metadata": {},
     "output_type": "execute_result"
    }
   ],
   "source": [
    "data = pd.Series(data)\n",
    "data"
   ]
  },
  {
   "cell_type": "code",
   "execution_count": null,
   "id": "5b148db9",
   "metadata": {},
   "outputs": [],
   "source": [
    "pandas data structures\n",
    "series   line | column\n",
    "dataframe  2D rows columns\n",
    "panel   multiple dataframe 3D"
   ]
  },
  {
   "cell_type": "code",
   "execution_count": 2,
   "id": "6f43031f",
   "metadata": {},
   "outputs": [],
   "source": [
    "# Series"
   ]
  },
  {
   "cell_type": "code",
   "execution_count": 32,
   "id": "a94df42c",
   "metadata": {},
   "outputs": [],
   "source": [
    "lis = [1,2,3,4,5]"
   ]
  },
  {
   "cell_type": "code",
   "execution_count": 33,
   "id": "3d3f8a6c",
   "metadata": {},
   "outputs": [],
   "source": [
    "import pandas as pd"
   ]
  },
  {
   "cell_type": "code",
   "execution_count": 54,
   "id": "39eca9de",
   "metadata": {},
   "outputs": [],
   "source": [
    "ser = pd.Series(data=lis, dtype='int64', copy=True)"
   ]
  },
  {
   "cell_type": "code",
   "execution_count": 55,
   "id": "68cd4cd1",
   "metadata": {
    "scrolled": true
   },
   "outputs": [
    {
     "data": {
      "text/plain": [
       "0    1\n",
       "1    2\n",
       "2    3\n",
       "3    4\n",
       "4    5\n",
       "dtype: int64"
      ]
     },
     "execution_count": 55,
     "metadata": {},
     "output_type": "execute_result"
    }
   ],
   "source": [
    "ser"
   ]
  },
  {
   "cell_type": "code",
   "execution_count": 56,
   "id": "b0313cff",
   "metadata": {},
   "outputs": [],
   "source": [
    "c = ser.copy()"
   ]
  },
  {
   "cell_type": "code",
   "execution_count": 57,
   "id": "660bb199",
   "metadata": {},
   "outputs": [
    {
     "data": {
      "text/plain": [
       "0    1\n",
       "1    2\n",
       "2    3\n",
       "3    4\n",
       "4    5\n",
       "dtype: int64"
      ]
     },
     "execution_count": 57,
     "metadata": {},
     "output_type": "execute_result"
    }
   ],
   "source": [
    "c"
   ]
  },
  {
   "cell_type": "code",
   "execution_count": 51,
   "id": "f5cb0e76",
   "metadata": {},
   "outputs": [
    {
     "data": {
      "text/plain": [
       "0    1\n",
       "1    2\n",
       "2    3\n",
       "3    4\n",
       "4    5\n",
       "dtype: int64"
      ]
     },
     "execution_count": 51,
     "metadata": {},
     "output_type": "execute_result"
    }
   ],
   "source": [
    "b"
   ]
  },
  {
   "cell_type": "code",
   "execution_count": 10,
   "id": "d338538b",
   "metadata": {},
   "outputs": [],
   "source": [
    "ser = pd.Series(data=lis, index=['a', 'b', 'c', 'd', 'e'])"
   ]
  },
  {
   "cell_type": "code",
   "execution_count": 11,
   "id": "527fdcac",
   "metadata": {},
   "outputs": [
    {
     "data": {
      "text/plain": [
       "a    1\n",
       "b    2\n",
       "c    3\n",
       "d    4\n",
       "e    5\n",
       "dtype: int64"
      ]
     },
     "execution_count": 11,
     "metadata": {},
     "output_type": "execute_result"
    }
   ],
   "source": [
    "ser"
   ]
  },
  {
   "cell_type": "code",
   "execution_count": 26,
   "id": "e72dce37",
   "metadata": {},
   "outputs": [],
   "source": [
    "lis = {\n",
    "    0:10,\n",
    "    1:11,\n",
    "    2: 22,\n",
    "    3: 33,\n",
    "}"
   ]
  },
  {
   "cell_type": "code",
   "execution_count": 27,
   "id": "f296fb4f",
   "metadata": {},
   "outputs": [],
   "source": [
    "s = pd.Series(data=lis, index=[0,1,2,3,4])"
   ]
  },
  {
   "cell_type": "code",
   "execution_count": 28,
   "id": "e3db9d84",
   "metadata": {},
   "outputs": [
    {
     "data": {
      "text/plain": [
       "dtype('float64')"
      ]
     },
     "execution_count": 28,
     "metadata": {},
     "output_type": "execute_result"
    }
   ],
   "source": [
    "s.dtype"
   ]
  },
  {
   "cell_type": "code",
   "execution_count": 44,
   "id": "8cb4b671",
   "metadata": {},
   "outputs": [],
   "source": [
    "ser = pd.Series(data=lis, index=[0,1,2,3,4], dtype='int', name='1d series', copy=True)"
   ]
  },
  {
   "cell_type": "code",
   "execution_count": 46,
   "id": "8b293c51",
   "metadata": {},
   "outputs": [
    {
     "data": {
      "text/plain": [
       "0    1\n",
       "1    2\n",
       "2    3\n",
       "3    4\n",
       "4    5\n",
       "Name: 1d series, dtype: int32"
      ]
     },
     "execution_count": 46,
     "metadata": {},
     "output_type": "execute_result"
    }
   ],
   "source": [
    "ser"
   ]
  },
  {
   "cell_type": "code",
   "execution_count": 31,
   "id": "bef9f98e",
   "metadata": {},
   "outputs": [
    {
     "data": {
      "text/plain": [
       "0    10.0\n",
       "1    11.0\n",
       "2    22.0\n",
       "3    33.0\n",
       "4     NaN\n",
       "dtype: float64"
      ]
     },
     "execution_count": 31,
     "metadata": {},
     "output_type": "execute_result"
    }
   ],
   "source": [
    "s"
   ]
  },
  {
   "cell_type": "code",
   "execution_count": null,
   "id": "1dd5dbda",
   "metadata": {},
   "outputs": [],
   "source": []
  }
 ],
 "metadata": {
  "kernelspec": {
   "display_name": "Python 3 (ipykernel)",
   "language": "python",
   "name": "python3"
  },
  "language_info": {
   "codemirror_mode": {
    "name": "ipython",
    "version": 3
   },
   "file_extension": ".py",
   "mimetype": "text/x-python",
   "name": "python",
   "nbconvert_exporter": "python",
   "pygments_lexer": "ipython3",
   "version": "3.7.13"
  }
 },
 "nbformat": 4,
 "nbformat_minor": 5
}
