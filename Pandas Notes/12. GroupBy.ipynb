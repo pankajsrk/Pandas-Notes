{
 "cells": [
  {
   "cell_type": "code",
   "execution_count": 1,
   "id": "3cd3642c",
   "metadata": {},
   "outputs": [],
   "source": [
    "import pandas as pd\n",
    "import numpy as np"
   ]
  },
  {
   "cell_type": "code",
   "execution_count": 5,
   "id": "4ca4abf6",
   "metadata": {},
   "outputs": [],
   "source": [
    "d = {\n",
    "    'NO':[11,22,33,88,44,55,88,99,11,22,33,88,44,55,88,99],\n",
    "    'ID': [1,2,3,4,8,5,8,9,1,2,3,4,8,5,8,9],\n",
    "    'NAME': [111,888,222,333,444,555,888,999,111,888,222,333,444,555,888,999],\n",
    "    'SCORE': [1111,8888,2222,3333,4444,5555,8888,9999,1111,8888,2222,3333,4444,5555,8888,9999],\n",
    "}\n",
    "\n",
    "dd = {\n",
    "    'ID':[1,2,6,3,4,5,6,7],\n",
    "    'NO1': [10,20,50,30,40,50,50,60],\n",
    "    'NAME': [100,200,300,500,400,500,500,600],\n",
    "    'SCORE': [1000,2000,3000,5000,4000,5000,5000,6000],\n",
    "}"
   ]
  },
  {
   "cell_type": "code",
   "execution_count": 6,
   "id": "6b7b694d",
   "metadata": {},
   "outputs": [],
   "source": [
    "df1 = pd.DataFrame(data=d)\n",
    "df2 = pd.DataFrame(data=dd)"
   ]
  },
  {
   "cell_type": "code",
   "execution_count": 7,
   "id": "7a85f8bb",
   "metadata": {},
   "outputs": [
    {
     "data": {
      "text/plain": [
       "(    NO  ID  NAME  SCORE\n",
       " 0   11   1   111   1111\n",
       " 1   22   2   888   8888\n",
       " 2   33   3   222   2222\n",
       " 3   88   4   333   3333\n",
       " 4   44   8   444   4444\n",
       " 5   55   5   555   5555\n",
       " 6   88   8   888   8888\n",
       " 7   99   9   999   9999\n",
       " 8   11   1   111   1111\n",
       " 9   22   2   888   8888\n",
       " 10  33   3   222   2222\n",
       " 11  88   4   333   3333\n",
       " 12  44   8   444   4444\n",
       " 13  55   5   555   5555\n",
       " 14  88   8   888   8888\n",
       " 15  99   9   999   9999,\n",
       "    ID  NO1  NAME  SCORE\n",
       " 0   1   10   100   1000\n",
       " 1   2   20   200   2000\n",
       " 2   6   50   300   3000\n",
       " 3   3   30   500   5000\n",
       " 4   4   40   400   4000\n",
       " 5   5   50   500   5000\n",
       " 6   6   50   500   5000\n",
       " 7   7   60   600   6000)"
      ]
     },
     "execution_count": 7,
     "metadata": {},
     "output_type": "execute_result"
    }
   ],
   "source": [
    "df1,df2"
   ]
  },
  {
   "cell_type": "code",
   "execution_count": 10,
   "id": "bbc6fda8",
   "metadata": {},
   "outputs": [],
   "source": [
    "groups = df1.groupby('NAME')"
   ]
  },
  {
   "cell_type": "code",
   "execution_count": 11,
   "id": "87c907bb",
   "metadata": {},
   "outputs": [
    {
     "data": {
      "text/plain": [
       "<pandas.core.groupby.generic.DataFrameGroupBy object at 0x0000023A0845DD48>"
      ]
     },
     "execution_count": 11,
     "metadata": {},
     "output_type": "execute_result"
    }
   ],
   "source": [
    "groups"
   ]
  },
  {
   "cell_type": "code",
   "execution_count": 20,
   "id": "928c7c69",
   "metadata": {},
   "outputs": [
    {
     "name": "stdout",
     "output_type": "stream",
     "text": [
      "111\n",
      "   NO  ID  NAME  SCORE\n",
      "0  11   1   111   1111\n",
      "8  11   1   111   1111\n",
      " \n",
      " \n",
      "222\n",
      "    NO  ID  NAME  SCORE\n",
      "2   33   3   222   2222\n",
      "10  33   3   222   2222\n",
      " \n",
      " \n",
      "333\n",
      "    NO  ID  NAME  SCORE\n",
      "3   88   4   333   3333\n",
      "11  88   4   333   3333\n",
      " \n",
      " \n",
      "444\n",
      "    NO  ID  NAME  SCORE\n",
      "4   44   8   444   4444\n",
      "12  44   8   444   4444\n",
      " \n",
      " \n",
      "555\n",
      "    NO  ID  NAME  SCORE\n",
      "5   55   5   555   5555\n",
      "13  55   5   555   5555\n",
      " \n",
      " \n",
      "888\n",
      "    NO  ID  NAME  SCORE\n",
      "1   22   2   888   8888\n",
      "6   88   8   888   8888\n",
      "9   22   2   888   8888\n",
      "14  88   8   888   8888\n",
      " \n",
      " \n",
      "999\n",
      "    NO  ID  NAME  SCORE\n",
      "7   99   9   999   9999\n",
      "15  99   9   999   9999\n",
      " \n",
      " \n"
     ]
    }
   ],
   "source": [
    "for x,y in groups:\n",
    "    print(x)\n",
    "\n",
    "    print(y)\n",
    "    print(' ')\n",
    "    print(' ')"
   ]
  },
  {
   "cell_type": "code",
   "execution_count": 25,
   "id": "d8c74bd3",
   "metadata": {},
   "outputs": [
    {
     "data": {
      "text/html": [
       "<div>\n",
       "<style scoped>\n",
       "    .dataframe tbody tr th:only-of-type {\n",
       "        vertical-align: middle;\n",
       "    }\n",
       "\n",
       "    .dataframe tbody tr th {\n",
       "        vertical-align: top;\n",
       "    }\n",
       "\n",
       "    .dataframe thead th {\n",
       "        text-align: right;\n",
       "    }\n",
       "</style>\n",
       "<table border=\"1\" class=\"dataframe\">\n",
       "  <thead>\n",
       "    <tr style=\"text-align: right;\">\n",
       "      <th></th>\n",
       "      <th>NO</th>\n",
       "      <th>ID</th>\n",
       "      <th>NAME</th>\n",
       "      <th>SCORE</th>\n",
       "    </tr>\n",
       "  </thead>\n",
       "  <tbody>\n",
       "    <tr>\n",
       "      <th>0</th>\n",
       "      <td>11</td>\n",
       "      <td>1</td>\n",
       "      <td>111</td>\n",
       "      <td>1111</td>\n",
       "    </tr>\n",
       "    <tr>\n",
       "      <th>8</th>\n",
       "      <td>11</td>\n",
       "      <td>1</td>\n",
       "      <td>111</td>\n",
       "      <td>1111</td>\n",
       "    </tr>\n",
       "  </tbody>\n",
       "</table>\n",
       "</div>"
      ],
      "text/plain": [
       "   NO  ID  NAME  SCORE\n",
       "0  11   1   111   1111\n",
       "8  11   1   111   1111"
      ]
     },
     "execution_count": 25,
     "metadata": {},
     "output_type": "execute_result"
    }
   ],
   "source": [
    "groups.get_group(111)"
   ]
  },
  {
   "cell_type": "code",
   "execution_count": 27,
   "id": "2d696f06",
   "metadata": {},
   "outputs": [
    {
     "data": {
      "text/html": [
       "<div>\n",
       "<style scoped>\n",
       "    .dataframe tbody tr th:only-of-type {\n",
       "        vertical-align: middle;\n",
       "    }\n",
       "\n",
       "    .dataframe tbody tr th {\n",
       "        vertical-align: top;\n",
       "    }\n",
       "\n",
       "    .dataframe thead th {\n",
       "        text-align: right;\n",
       "    }\n",
       "</style>\n",
       "<table border=\"1\" class=\"dataframe\">\n",
       "  <thead>\n",
       "    <tr style=\"text-align: right;\">\n",
       "      <th></th>\n",
       "      <th>NO</th>\n",
       "      <th>ID</th>\n",
       "      <th>SCORE</th>\n",
       "    </tr>\n",
       "    <tr>\n",
       "      <th>NAME</th>\n",
       "      <th></th>\n",
       "      <th></th>\n",
       "      <th></th>\n",
       "    </tr>\n",
       "  </thead>\n",
       "  <tbody>\n",
       "    <tr>\n",
       "      <th>111</th>\n",
       "      <td>11</td>\n",
       "      <td>1</td>\n",
       "      <td>1111</td>\n",
       "    </tr>\n",
       "    <tr>\n",
       "      <th>222</th>\n",
       "      <td>33</td>\n",
       "      <td>3</td>\n",
       "      <td>2222</td>\n",
       "    </tr>\n",
       "    <tr>\n",
       "      <th>333</th>\n",
       "      <td>88</td>\n",
       "      <td>4</td>\n",
       "      <td>3333</td>\n",
       "    </tr>\n",
       "    <tr>\n",
       "      <th>444</th>\n",
       "      <td>44</td>\n",
       "      <td>8</td>\n",
       "      <td>4444</td>\n",
       "    </tr>\n",
       "    <tr>\n",
       "      <th>555</th>\n",
       "      <td>55</td>\n",
       "      <td>5</td>\n",
       "      <td>5555</td>\n",
       "    </tr>\n",
       "    <tr>\n",
       "      <th>888</th>\n",
       "      <td>22</td>\n",
       "      <td>2</td>\n",
       "      <td>8888</td>\n",
       "    </tr>\n",
       "    <tr>\n",
       "      <th>999</th>\n",
       "      <td>99</td>\n",
       "      <td>9</td>\n",
       "      <td>9999</td>\n",
       "    </tr>\n",
       "  </tbody>\n",
       "</table>\n",
       "</div>"
      ],
      "text/plain": [
       "      NO  ID  SCORE\n",
       "NAME               \n",
       "111   11   1   1111\n",
       "222   33   3   2222\n",
       "333   88   4   3333\n",
       "444   44   8   4444\n",
       "555   55   5   5555\n",
       "888   22   2   8888\n",
       "999   99   9   9999"
      ]
     },
     "execution_count": 27,
     "metadata": {},
     "output_type": "execute_result"
    }
   ],
   "source": [
    "groups.min()"
   ]
  },
  {
   "cell_type": "code",
   "execution_count": 31,
   "id": "56a981b9",
   "metadata": {},
   "outputs": [
    {
     "data": {
      "text/html": [
       "<div>\n",
       "<style scoped>\n",
       "    .dataframe tbody tr th:only-of-type {\n",
       "        vertical-align: middle;\n",
       "    }\n",
       "\n",
       "    .dataframe tbody tr th {\n",
       "        vertical-align: top;\n",
       "    }\n",
       "\n",
       "    .dataframe thead th {\n",
       "        text-align: right;\n",
       "    }\n",
       "</style>\n",
       "<table border=\"1\" class=\"dataframe\">\n",
       "  <thead>\n",
       "    <tr style=\"text-align: right;\">\n",
       "      <th></th>\n",
       "      <th>NO</th>\n",
       "      <th>ID</th>\n",
       "      <th>SCORE</th>\n",
       "    </tr>\n",
       "    <tr>\n",
       "      <th>NAME</th>\n",
       "      <th></th>\n",
       "      <th></th>\n",
       "      <th></th>\n",
       "    </tr>\n",
       "  </thead>\n",
       "  <tbody>\n",
       "    <tr>\n",
       "      <th>111</th>\n",
       "      <td>11</td>\n",
       "      <td>1</td>\n",
       "      <td>1111</td>\n",
       "    </tr>\n",
       "    <tr>\n",
       "      <th>222</th>\n",
       "      <td>33</td>\n",
       "      <td>3</td>\n",
       "      <td>2222</td>\n",
       "    </tr>\n",
       "    <tr>\n",
       "      <th>333</th>\n",
       "      <td>88</td>\n",
       "      <td>4</td>\n",
       "      <td>3333</td>\n",
       "    </tr>\n",
       "    <tr>\n",
       "      <th>444</th>\n",
       "      <td>44</td>\n",
       "      <td>8</td>\n",
       "      <td>4444</td>\n",
       "    </tr>\n",
       "    <tr>\n",
       "      <th>555</th>\n",
       "      <td>55</td>\n",
       "      <td>5</td>\n",
       "      <td>5555</td>\n",
       "    </tr>\n",
       "    <tr>\n",
       "      <th>888</th>\n",
       "      <td>88</td>\n",
       "      <td>8</td>\n",
       "      <td>8888</td>\n",
       "    </tr>\n",
       "    <tr>\n",
       "      <th>999</th>\n",
       "      <td>99</td>\n",
       "      <td>9</td>\n",
       "      <td>9999</td>\n",
       "    </tr>\n",
       "  </tbody>\n",
       "</table>\n",
       "</div>"
      ],
      "text/plain": [
       "      NO  ID  SCORE\n",
       "NAME               \n",
       "111   11   1   1111\n",
       "222   33   3   2222\n",
       "333   88   4   3333\n",
       "444   44   8   4444\n",
       "555   55   5   5555\n",
       "888   88   8   8888\n",
       "999   99   9   9999"
      ]
     },
     "execution_count": 31,
     "metadata": {},
     "output_type": "execute_result"
    }
   ],
   "source": [
    "groups.max()"
   ]
  },
  {
   "cell_type": "code",
   "execution_count": 32,
   "id": "ad244ae1",
   "metadata": {},
   "outputs": [
    {
     "data": {
      "text/html": [
       "<div>\n",
       "<style scoped>\n",
       "    .dataframe tbody tr th:only-of-type {\n",
       "        vertical-align: middle;\n",
       "    }\n",
       "\n",
       "    .dataframe tbody tr th {\n",
       "        vertical-align: top;\n",
       "    }\n",
       "\n",
       "    .dataframe thead th {\n",
       "        text-align: right;\n",
       "    }\n",
       "</style>\n",
       "<table border=\"1\" class=\"dataframe\">\n",
       "  <thead>\n",
       "    <tr style=\"text-align: right;\">\n",
       "      <th></th>\n",
       "      <th>NO</th>\n",
       "      <th>ID</th>\n",
       "      <th>SCORE</th>\n",
       "    </tr>\n",
       "    <tr>\n",
       "      <th>NAME</th>\n",
       "      <th></th>\n",
       "      <th></th>\n",
       "      <th></th>\n",
       "    </tr>\n",
       "  </thead>\n",
       "  <tbody>\n",
       "    <tr>\n",
       "      <th>111</th>\n",
       "      <td>11.0</td>\n",
       "      <td>1.0</td>\n",
       "      <td>1111.0</td>\n",
       "    </tr>\n",
       "    <tr>\n",
       "      <th>222</th>\n",
       "      <td>33.0</td>\n",
       "      <td>3.0</td>\n",
       "      <td>2222.0</td>\n",
       "    </tr>\n",
       "    <tr>\n",
       "      <th>333</th>\n",
       "      <td>88.0</td>\n",
       "      <td>4.0</td>\n",
       "      <td>3333.0</td>\n",
       "    </tr>\n",
       "    <tr>\n",
       "      <th>444</th>\n",
       "      <td>44.0</td>\n",
       "      <td>8.0</td>\n",
       "      <td>4444.0</td>\n",
       "    </tr>\n",
       "    <tr>\n",
       "      <th>555</th>\n",
       "      <td>55.0</td>\n",
       "      <td>5.0</td>\n",
       "      <td>5555.0</td>\n",
       "    </tr>\n",
       "    <tr>\n",
       "      <th>888</th>\n",
       "      <td>55.0</td>\n",
       "      <td>5.0</td>\n",
       "      <td>8888.0</td>\n",
       "    </tr>\n",
       "    <tr>\n",
       "      <th>999</th>\n",
       "      <td>99.0</td>\n",
       "      <td>9.0</td>\n",
       "      <td>9999.0</td>\n",
       "    </tr>\n",
       "  </tbody>\n",
       "</table>\n",
       "</div>"
      ],
      "text/plain": [
       "        NO   ID   SCORE\n",
       "NAME                   \n",
       "111   11.0  1.0  1111.0\n",
       "222   33.0  3.0  2222.0\n",
       "333   88.0  4.0  3333.0\n",
       "444   44.0  8.0  4444.0\n",
       "555   55.0  5.0  5555.0\n",
       "888   55.0  5.0  8888.0\n",
       "999   99.0  9.0  9999.0"
      ]
     },
     "execution_count": 32,
     "metadata": {},
     "output_type": "execute_result"
    }
   ],
   "source": [
    "groups.mean()"
   ]
  },
  {
   "cell_type": "code",
   "execution_count": 33,
   "id": "b4bdc151",
   "metadata": {},
   "outputs": [],
   "source": [
    "l = list(groups)"
   ]
  },
  {
   "cell_type": "code",
   "execution_count": 34,
   "id": "04c2821a",
   "metadata": {},
   "outputs": [
    {
     "data": {
      "text/plain": [
       "[(111,\n",
       "     NO  ID  NAME  SCORE\n",
       "  0  11   1   111   1111\n",
       "  8  11   1   111   1111),\n",
       " (222,\n",
       "      NO  ID  NAME  SCORE\n",
       "  2   33   3   222   2222\n",
       "  10  33   3   222   2222),\n",
       " (333,\n",
       "      NO  ID  NAME  SCORE\n",
       "  3   88   4   333   3333\n",
       "  11  88   4   333   3333),\n",
       " (444,\n",
       "      NO  ID  NAME  SCORE\n",
       "  4   44   8   444   4444\n",
       "  12  44   8   444   4444),\n",
       " (555,\n",
       "      NO  ID  NAME  SCORE\n",
       "  5   55   5   555   5555\n",
       "  13  55   5   555   5555),\n",
       " (888,\n",
       "      NO  ID  NAME  SCORE\n",
       "  1   22   2   888   8888\n",
       "  6   88   8   888   8888\n",
       "  9   22   2   888   8888\n",
       "  14  88   8   888   8888),\n",
       " (999,\n",
       "      NO  ID  NAME  SCORE\n",
       "  7   99   9   999   9999\n",
       "  15  99   9   999   9999)]"
      ]
     },
     "execution_count": 34,
     "metadata": {},
     "output_type": "execute_result"
    }
   ],
   "source": [
    "l"
   ]
  },
  {
   "cell_type": "code",
   "execution_count": null,
   "id": "9d5199d3",
   "metadata": {},
   "outputs": [],
   "source": []
  }
 ],
 "metadata": {
  "kernelspec": {
   "display_name": "Python 3 (ipykernel)",
   "language": "python",
   "name": "python3"
  },
  "language_info": {
   "codemirror_mode": {
    "name": "ipython",
    "version": 3
   },
   "file_extension": ".py",
   "mimetype": "text/x-python",
   "name": "python",
   "nbconvert_exporter": "python",
   "pygments_lexer": "ipython3",
   "version": "3.7.13"
  }
 },
 "nbformat": 4,
 "nbformat_minor": 5
}
